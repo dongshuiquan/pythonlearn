{
 "cells": [
  {
   "cell_type": "code",
   "execution_count": 15,
   "metadata": {},
   "outputs": [
    {
     "name": "stdout",
     "output_type": "stream",
     "text": [
      "Table sensors\n",
      "# of table 1\n"
     ]
    }
   ],
   "source": [
    "import sqlite3\n",
    "\n",
    "with sqlite3.connect(':memory:') as con:\n",
    "    c = con.cursor()\n",
    "    c.execute('''\n",
    "        CREATE TABLE sensors\n",
    "            (date text, city text, code text, sensor_id real, temperature read)\n",
    "    ''')\n",
    "    for table in c.execute(\"SELECT name FROM sqlite_master WHERE type='table'\"):\n",
    "        print 'Table', table[0]\n",
    "        \n",
    "    c.execute(\"INSERT INTO sensors VALUES('2016-11-05', 'Utrecht', 'Red', 42, 15.14)\")\n",
    "    c.execute('SELECT * FROM sensors')\n",
    "\n",
    "    print '# of table', c.execute('SELECT COUNT(*) FROM sqlite_master WHERE type = \"table\"').fetchone()[0]\n",
    "    c.close()"
   ]
  },
  {
   "cell_type": "code",
   "execution_count": 16,
   "metadata": {},
   "outputs": [
    {
     "name": "stderr",
     "output_type": "stream",
     "text": [
      "C:\\Users\\DELL\\Anaconda2\\lib\\site-packages\\statsmodels\\compat\\pandas.py:56: FutureWarning: The pandas.core.datetools module is deprecated and will be removed in a future version. Please use the pandas.tseries module instead.\n",
      "  from pandas.core import datetools\n"
     ]
    },
    {
     "name": "stdout",
     "output_type": "stream",
     "text": [
      "(309,)\n",
      "DELETED 217 rows\n",
      "      year  sunactivity\n",
      "0   1700.0          5.0\n",
      "1   1701.0         11.0\n",
      "2   1702.0         16.0\n",
      "3   1707.0         20.0\n",
      "4   1708.0         10.0\n",
      "5   1709.0          8.0\n",
      "6   1710.0          3.0\n",
      "7   1711.0          0.0\n",
      "8   1712.0          0.0\n",
      "9   1713.0          2.0\n",
      "10  1714.0         11.0\n",
      "11  1723.0         11.0\n"
     ]
    }
   ],
   "source": [
    "# panda_access\n",
    "\n",
    "import statsmodels.api as sm\n",
    "from pandas.io.sql import read_sql\n",
    "import sqlite3\n",
    "\n",
    "with sqlite3.connect(':memory:') as con:\n",
    "    c = con.cursor()\n",
    "    data_loader = sm.datasets.sunspots.load_pandas()\n",
    "    df = data_loader.data\n",
    "    rows = [tuple(x) for x in df.values]\n",
    "    \n",
    "    con.execute(\"CREATE TABLE sunspots(year, sunactivity)\")\n",
    "    con.executemany(\"INSERT INTO sunspots(year, sunactivity) VALUES (?, ?)\", rows)\n",
    "    c.execute(\"SELECT COUNT(*) FROM sunspots\")\n",
    "    print c.fetchone()\n",
    "    print 'DELETED', con.execute(\"DELETE FROM sunspots where sunactivity > 20\").rowcount, \"rows\"\n",
    "    \n",
    "    print read_sql(\"SELECT * FROM sunspots where year <1732\", con)\n",
    "    con.execute(\"DROP TABLE sunspots\")\n",
    "    c.close()"
   ]
  }
 ],
 "metadata": {
  "kernelspec": {
   "display_name": "Python 2",
   "language": "python",
   "name": "python2"
  },
  "language_info": {
   "codemirror_mode": {
    "name": "ipython",
    "version": 2
   },
   "file_extension": ".py",
   "mimetype": "text/x-python",
   "name": "python",
   "nbconvert_exporter": "python",
   "pygments_lexer": "ipython2",
   "version": "2.7.13"
  }
 },
 "nbformat": 4,
 "nbformat_minor": 2
}
