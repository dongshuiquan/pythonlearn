{
 "cells": [
  {
   "cell_type": "code",
   "execution_count": 8,
   "metadata": {},
   "outputs": [
    {
     "name": "stdout",
     "output_type": "stream",
     "text": [
      "Shape (202, 9)\n",
      "Length 202\n",
      "Column Headers Index([u'Country', u'CountryID', u'Continent',\n",
      "       u'Adolescent fertility rate (%)', u'Adult literacy rate (%)',\n",
      "       u'Gross national income per capita (PPP international $)',\n",
      "       u'Net primary school enrolment ratio female (%)',\n",
      "       u'Net primary school enrolment ratio male (%)',\n",
      "       u'Population (in thousands) total'],\n",
      "      dtype='object')\n",
      "Data types Country                                                    object\n",
      "CountryID                                                   int64\n",
      "Continent                                                   int64\n",
      "Adolescent fertility rate (%)                             float64\n",
      "Adult literacy rate (%)                                   float64\n",
      "Gross national income per capita (PPP international $)    float64\n",
      "Net primary school enrolment ratio female (%)             float64\n",
      "Net primary school enrolment ratio male (%)               float64\n",
      "Population (in thousands) total                           float64\n",
      "dtype: object\n",
      "Index RangeIndex(start=0, stop=202, step=1)\n",
      "Values [['Afghanistan' 1L 1L ..., nan nan 26088.0]\n",
      " ['Albania' 2L 2L ..., 93.0 94.0 3172.0]\n",
      " ['Algeria' 3L 3L ..., 94.0 96.0 33351.0]\n",
      " ..., \n",
      " ['Yemen' 200L 1L ..., 65.0 85.0 21732.0]\n",
      " ['Zambia' 201L 3L ..., 94.0 90.0 11696.0]\n",
      " ['Zimbabwe' 202L 3L ..., 88.0 87.0 13228.0]]\n"
     ]
    }
   ],
   "source": [
    "from pandas.io.parsers import read_csv\n",
    "\n",
    "df = read_csv(\"WHO_first9cols.csv\")\n",
    "#print \"Dataframe\", df\n",
    "print 'Shape', df.shape\n",
    "print 'Length', len(df)\n",
    "print 'Column Headers', df.columns\n",
    "print 'Data types', df.dtypes\n",
    "print 'Index', df.index\n",
    "print 'Values', df.values"
   ]
  },
  {
   "cell_type": "code",
   "execution_count": 16,
   "metadata": {},
   "outputs": [
    {
     "name": "stdout",
     "output_type": "stream",
     "text": [
      " Type df <class 'pandas.core.frame.DataFrame'>\n",
      "Type country col <class 'pandas.core.series.Series'>\n",
      "Series shape (202L,)\n",
      "Series index RangeIndex(start=0, stop=202, step=1)\n",
      "Series values ['Afghanistan' 'Albania' 'Algeria' 'Andorra' 'Angola' 'Antigua and Barbuda'\n",
      " 'Argentina' 'Armenia' 'Australia' 'Austria' 'Azerbaijan' 'Bahamas'\n",
      " 'Bahrain' 'Bangladesh' 'Barbados' 'Belarus' 'Belgium' 'Belize' 'Benin'\n",
      " 'Bermuda' 'Bhutan' 'Bolivia' 'Bosnia and Herzegovina' 'Botswana' 'Brazil'\n",
      " 'Brunei Darussalam' 'Bulgaria' 'Burkina Faso' 'Burundi' 'Cambodia'\n",
      " 'Cameroon' 'Canada' 'Cape Verde' 'Central African Republic' 'Chad' 'Chile'\n",
      " 'China' 'Colombia' 'Comoros' 'Congo, Dem. Rep.' 'Congo, Rep.'\n",
      " 'Cook Islands' 'Costa Rica' \"Cote d'Ivoire\" 'Croatia' 'Cuba' 'Cyprus'\n",
      " 'Czech Republic' 'Denmark' 'Djibouti' 'Dominica' 'Dominican Republic'\n",
      " 'Ecuador' 'Egypt' 'El Salvador' 'Equatorial Guinea' 'Eritrea' 'Estonia'\n",
      " 'Ethiopia' 'Fiji' 'Finland' 'France' 'French Polynesia' 'Gabon' 'Gambia'\n",
      " 'Georgia' 'Germany' 'Ghana' 'Greece' 'Grenada' 'Guatemala' 'Guinea'\n",
      " 'Guinea-Bissau' 'Guyana' 'Haiti' 'Honduras' 'Hong Kong, China' 'Hungary'\n",
      " 'Iceland' 'India' 'Indonesia' 'Iran (Islamic Republic of)' 'Iraq'\n",
      " 'Ireland' 'Israel' 'Italy' 'Jamaica' 'Japan' 'Jordan' 'Kazakhstan' 'Kenya'\n",
      " 'Kiribati' 'Korea, Dem. Rep.' 'Korea, Rep.' 'Kuwait' 'Kyrgyzstan'\n",
      " \"Lao People's Democratic Republic\" 'Latvia' 'Lebanon' 'Lesotho' 'Liberia'\n",
      " 'Libyan Arab Jamahiriya' 'Lithuania' 'Luxembourg' 'Macao, China'\n",
      " 'Macedonia' 'Madagascar' 'Malawi' 'Malaysia' 'Maldives' 'Mali' 'Malta'\n",
      " 'Marshall Islands' 'Mauritania' 'Mauritius' 'Mexico'\n",
      " 'Micronesia (Federated States of)' 'Moldova' 'Monaco' 'Mongolia'\n",
      " 'Montenegro' 'Morocco' 'Mozambique' 'Myanmar' 'Namibia' 'Nauru' 'Nepal'\n",
      " 'Netherlands' 'Netherlands Antilles' 'New Caledonia' 'New Zealand'\n",
      " 'Nicaragua' 'Niger' 'Nigeria' 'Niue' 'Norway' 'Oman' 'Pakistan' 'Palau'\n",
      " 'Panama' 'Papua New Guinea' 'Paraguay' 'Peru' 'Philippines' 'Poland'\n",
      " 'Portugal' 'Puerto Rico' 'Qatar' 'Romania' 'Russia' 'Rwanda'\n",
      " 'Saint Kitts and Nevis' 'Saint Lucia' 'Saint Vincent and the Grenadines'\n",
      " 'Samoa' 'San Marino' 'Sao Tome and Principe' 'Saudi Arabia' 'Senegal'\n",
      " 'Serbia' 'Seychelles' 'Sierra Leone' 'Singapore' 'Slovakia' 'Slovenia'\n",
      " 'Solomon Islands' 'Somalia' 'South Africa' 'Spain' 'Sri Lanka' 'Sudan'\n",
      " 'Suriname' 'Swaziland' 'Sweden' 'Switzerland' 'Syria' 'Taiwan'\n",
      " 'Tajikistan' 'Tanzania' 'Thailand' 'Timor-Leste' 'Togo' 'Tonga'\n",
      " 'Trinidad and Tobago' 'Tunisia' 'Turkey' 'Turkmenistan' 'Tuvalu' 'Uganda'\n",
      " 'Ukraine' 'United Arab Emirates' 'United Kingdom'\n",
      " 'United States of America' 'Uruguay' 'Uzbekistan' 'Vanuatu' 'Venezuela'\n",
      " 'Vietnam' 'West Bank and Gaza' 'Yemen' 'Zambia' 'Zimbabwe']\n",
      "Series name Country\n",
      "Last df column signs Population (in thousands) total\n"
     ]
    },
    {
     "name": "stderr",
     "output_type": "stream",
     "text": [
      "C:\\Users\\DELL\\Anaconda2\\lib\\site-packages\\ipykernel_launcher.py:15: RuntimeWarning: invalid value encountered in sign\n",
      "  from ipykernel import kernelapp as app\n"
     ]
    },
    {
     "data": {
      "text/plain": [
       "0      1.0\n",
       "1      1.0\n",
       "2      1.0\n",
       "3      1.0\n",
       "4      1.0\n",
       "5      1.0\n",
       "6      1.0\n",
       "7      1.0\n",
       "8      1.0\n",
       "9      1.0\n",
       "10     1.0\n",
       "11     1.0\n",
       "12     1.0\n",
       "13     1.0\n",
       "14     1.0\n",
       "15     1.0\n",
       "16     1.0\n",
       "17     1.0\n",
       "18     1.0\n",
       "19     NaN\n",
       "20     1.0\n",
       "21     1.0\n",
       "22     1.0\n",
       "23     1.0\n",
       "24     1.0\n",
       "25     1.0\n",
       "26     1.0\n",
       "27     1.0\n",
       "28     1.0\n",
       "29     1.0\n",
       "      ... \n",
       "172    1.0\n",
       "173    1.0\n",
       "174    1.0\n",
       "175    1.0\n",
       "176    NaN\n",
       "177    1.0\n",
       "178    1.0\n",
       "179    1.0\n",
       "180    1.0\n",
       "181    1.0\n",
       "182    1.0\n",
       "183    1.0\n",
       "184    1.0\n",
       "185    1.0\n",
       "186    1.0\n",
       "187    1.0\n",
       "188    1.0\n",
       "189    1.0\n",
       "190    1.0\n",
       "191    1.0\n",
       "192    1.0\n",
       "193    1.0\n",
       "194    1.0\n",
       "195    1.0\n",
       "196    1.0\n",
       "197    1.0\n",
       "198    NaN\n",
       "199    1.0\n",
       "200    1.0\n",
       "201    1.0\n",
       "Name: Population (in thousands) total, Length: 202, dtype: float64"
      ]
     },
     "execution_count": 16,
     "metadata": {},
     "output_type": "execute_result"
    }
   ],
   "source": [
    "from pandas.io.parsers import read_csv\n",
    "import numpy as np\n",
    "\n",
    "df = read_csv(\"WHO_first9cols.csv\")\n",
    "country_col = df['Country']\n",
    "print 'Type df', type(df)\n",
    "print 'Type country col', type(country_col)\n",
    "print 'Series shape', country_col.shape\n",
    "print 'Series index', country_col.index\n",
    "print 'Series values', country_col.values\n",
    "print 'Series name', country_col.name\n",
    "#print 'df signs', np.sign(df)\n",
    "last_col = df.columns[-1]\n",
    "print 'Last df column signs', last_col\n",
    "np.sign(df[last_col])"
   ]
  },
  {
   "cell_type": "code",
   "execution_count": 26,
   "metadata": {},
   "outputs": [
    {
     "name": "stdout",
     "output_type": "stream",
     "text": [
      "Head 2                      Yearly Mean Total Sunspot Number  \\\n",
      "Date                                                    \n",
      "1700-12-31 00:00:00                               8.3   \n",
      "1701-12-31 00:00:00                              18.3   \n",
      "\n",
      "                     Yearly Mean Standard Deviation  Number of Observations  \\\n",
      "Date                                                                          \n",
      "1700-12-31 00:00:00                             NaN                     NaN   \n",
      "1701-12-31 00:00:00                             NaN                     NaN   \n",
      "\n",
      "                     Definitive/Provisional Indicator  \n",
      "Date                                                   \n",
      "1700-12-31 00:00:00                               1.0  \n",
      "1701-12-31 00:00:00                               1.0  \n",
      "Tail 2             Yearly Mean Total Sunspot Number  Yearly Mean Standard Deviation  \\\n",
      "Date                                                                           \n",
      "2015-12-31                              69.8                             6.4   \n",
      "2016-12-31                              39.8                             3.9   \n",
      "\n",
      "            Number of Observations  Definitive/Provisional Indicator  \n",
      "Date                                                                  \n",
      "2015-12-31                  8903.0                               1.0  \n",
      "2016-12-31                  9940.0                               1.0  \n",
      "Last value Yearly Mean Total Sunspot Number      39.8\n",
      "Yearly Mean Standard Deviation         3.9\n",
      "Number of Observations              9940.0\n",
      "Definitive/Provisional Indicator       1.0\n",
      "Name: 2016-12-31 00:00:00, dtype: float64\n",
      "Value slice by date\n",
      "\n",
      "            Yearly Mean Total Sunspot Number  Yearly Mean Standard Deviation  \\\n",
      "Date                                                                           \n",
      "2002-12-31                             163.6                             9.8   \n",
      "2003-12-31                              99.3                             7.1   \n",
      "2004-12-31                              65.3                             5.9   \n",
      "2005-12-31                              45.8                             4.7   \n",
      "2006-12-31                              24.7                             3.5   \n",
      "2007-12-31                              12.6                             2.7   \n",
      "2008-12-31                               4.2                             2.5   \n",
      "2009-12-31                               4.8                             2.5   \n",
      "2010-12-31                              24.9                             3.4   \n",
      "2011-12-31                              80.8                             6.7   \n",
      "2012-12-31                              84.5                             6.7   \n",
      "2013-12-31                              94.0                             6.9   \n",
      "\n",
      "            Number of Observations  Definitive/Provisional Indicator  \n",
      "Date                                                                  \n",
      "2002-12-31                  6588.0                               1.0  \n",
      "2003-12-31                  7087.0                               1.0  \n",
      "2004-12-31                  6882.0                               1.0  \n",
      "2005-12-31                  7084.0                               1.0  \n",
      "2006-12-31                  6370.0                               1.0  \n",
      "2007-12-31                  6841.0                               1.0  \n",
      "2008-12-31                  6644.0                               1.0  \n",
      "2009-12-31                  6465.0                               1.0  \n",
      "2010-12-31                  6328.0                               1.0  \n",
      "2011-12-31                  6077.0                               1.0  \n",
      "2012-12-31                  5753.0                               1.0  \n",
      "2013-12-31                  5347.0                               1.0  \n",
      "Describe        Yearly Mean Total Sunspot Number  Yearly Mean Standard Deviation  \\\n",
      "count                        317.000000                      199.000000   \n",
      "mean                          79.378233                        8.009548   \n",
      "std                           61.998961                        3.808942   \n",
      "min                            0.000000                        1.700000   \n",
      "25%                           25.100000                        4.700000   \n",
      "50%                           66.700000                        7.700000   \n",
      "75%                          116.300000                       10.450000   \n",
      "max                          269.300000                       19.100000   \n",
      "\n",
      "       Number of Observations  Definitive/Provisional Indicator  \n",
      "count              199.000000                             317.0  \n",
      "mean              1467.678392                               1.0  \n",
      "std               2463.925956                               0.0  \n",
      "min                150.000000                               1.0  \n",
      "25%                365.000000                               1.0  \n",
      "50%                365.000000                               1.0  \n",
      "75%                366.000000                               1.0  \n",
      "max               9940.000000                               1.0   \n",
      "\n",
      "\n",
      "Non NaN observations Yearly Mean Total Sunspot Number    317\n",
      "Yearly Mean Standard Deviation      199\n",
      "Number of Observations              199\n",
      "Definitive/Provisional Indicator    317\n",
      "dtype: int64 \n",
      "\n",
      "\n",
      "MAD Yearly Mean Total Sunspot Number      50.931061\n",
      "Yearly Mean Standard Deviation         3.128860\n",
      "Number of Observations              1838.628924\n",
      "Definitive/Provisional Indicator       0.000000\n",
      "dtype: float64 \n",
      "\n",
      "\n",
      "Dedian Yearly Mean Total Sunspot Number     66.7\n",
      "Yearly Mean Standard Deviation        7.7\n",
      "Number of Observations              365.0\n",
      "Definitive/Provisional Indicator      1.0\n",
      "dtype: float64 \n",
      "\n",
      "\n",
      "Min Yearly Mean Total Sunspot Number      0.0\n",
      "Yearly Mean Standard Deviation        1.7\n",
      "Number of Observations              150.0\n",
      "Definitive/Provisional Indicator      1.0\n",
      "dtype: float64 \n",
      "\n",
      "\n",
      "Max Yearly Mean Total Sunspot Number     269.3\n",
      "Yearly Mean Standard Deviation        19.1\n",
      "Number of Observations              9940.0\n",
      "Definitive/Provisional Indicator       1.0\n",
      "dtype: float64 \n",
      "\n",
      "\n",
      "Mode    Yearly Mean Total Sunspot Number  Yearly Mean Standard Deviation  \\\n",
      "0                              18.3                             9.2   \n",
      "\n",
      "   Number of Observations  Definitive/Provisional Indicator  \n",
      "0                   365.0                               1.0   \n",
      "\n",
      "\n",
      "Standard Deviation Yearly Mean Total Sunspot Number      61.998961\n",
      "Yearly Mean Standard Deviation         3.808942\n",
      "Number of Observations              2463.925956\n",
      "Definitive/Provisional Indicator       0.000000\n",
      "dtype: float64 \n",
      "\n",
      "\n",
      "Variance Yearly Mean Total Sunspot Number    3.843871e+03\n",
      "Yearly Mean Standard Deviation      1.450804e+01\n",
      "Number of Observations              6.070931e+06\n",
      "Definitive/Provisional Indicator    0.000000e+00\n",
      "dtype: float64 \n",
      "\n",
      "\n",
      "Skewness Yearly Mean Total Sunspot Number    0.804414\n",
      "Yearly Mean Standard Deviation      0.561530\n",
      "Number of Observations              1.871952\n",
      "Definitive/Provisional Indicator    0.000000\n",
      "dtype: float64 \n",
      "\n",
      "\n",
      "Kurtosis Yearly Mean Total Sunspot Number   -0.135040\n",
      "Yearly Mean Standard Deviation     -0.243958\n",
      "Number of Observations              1.850223\n",
      "Definitive/Provisional Indicator    0.000000\n",
      "dtype: float64 \n",
      "\n",
      "\n"
     ]
    }
   ],
   "source": [
    "import Quandl\n",
    "\n",
    "\n",
    "sunspots = Quandl.get('SIDC/SUNSPOTS_A')\n",
    "print 'Head 2', sunspots.head(2)\n",
    "print 'Tail 2', sunspots.tail(2)\n",
    "last_date = sunspots.index[-1]\n",
    "print 'Last value', sunspots.loc[last_date]\n",
    "print 'Value slice by date\\n\\n', sunspots['20020101':'20131231']\n",
    "print 'Describe', sunspots.describe(),'\\n\\n'\n",
    "print 'Non NaN observations', sunspots.count(),'\\n\\n'\n",
    "print 'MAD', sunspots.mad(),'\\n\\n'\n",
    "print 'Dedian', sunspots.median(),'\\n\\n'\n",
    "print 'Min', sunspots.min(),'\\n\\n'\n",
    "print 'Max', sunspots.max(),'\\n\\n'\n",
    "print 'Mode', sunspots.mode(),'\\n\\n'\n",
    "print 'Standard Deviation', sunspots.std(),'\\n\\n'\n",
    "print 'Variance', sunspots.var(),'\\n\\n'\n",
    "print 'Skewness', sunspots.skew(),'\\n\\n'\n",
    "print 'Kurtosis', sunspots.kurt(),'\\n\\n'"
   ]
  },
  {
   "cell_type": "code",
   "execution_count": 37,
   "metadata": {},
   "outputs": [
    {
     "name": "stdout",
     "output_type": "stream",
     "text": [
      "Group 1 cold\n",
      "       Food  Number     Price Weather\n",
      "0      soup       8  3.745401    cold\n",
      "2  icecream       4  7.319939    cold\n",
      "4  icecream       8  1.560186    cold\n",
      "6      soup       6  0.580836    cold\n",
      "Group 2 hot\n",
      "        Food  Number     Price Weather\n",
      "1       soup       5  9.507143     hot\n",
      "3  chocolate       8  5.986585     hot\n",
      "5   icecream       3  1.559945     hot\n",
      "Weather group first\n",
      "         Food  Number     Price\n",
      "Weather                        \n",
      "cold     soup       8  3.745401\n",
      "hot      soup       5  9.507143\n",
      "Weather group last\n",
      "             Food  Number     Price\n",
      "Weather                            \n",
      "cold         soup       6  0.580836\n",
      "hot      icecream       3  1.559945\n",
      "Weather group mean\n",
      "           Number     Price\n",
      "Weather                    \n",
      "cold     6.500000  3.301591\n",
      "hot      5.333333  5.684558\n",
      "WF Groups {('hot', 'chocolate'): Int64Index([3], dtype='int64'), ('cold', 'icecream'): Int64Index([2, 4], dtype='int64'), ('cold', 'soup'): Int64Index([0, 6], dtype='int64'), ('hot', 'soup'): Int64Index([1], dtype='int64'), ('hot', 'icecream'): Int64Index([5], dtype='int64')}\n",
      "WF Aggregated\n",
      "                  Number            Price          \n",
      "                    mean median      mean    median\n",
      "Weather Food                                       \n",
      "cold    icecream       6      6  4.440063  4.440063\n",
      "        soup           7      7  2.163119  2.163119\n",
      "hot     chocolate      8      8  5.986585  5.986585\n",
      "        icecream       3      3  1.559945  1.559945\n",
      "        soup           5      5  9.507143  9.507143\n"
     ]
    }
   ],
   "source": [
    "import pandas as pd\n",
    "from numpy.random import seed\n",
    "from numpy.random import rand\n",
    "from numpy.random import randint\n",
    "import numpy as np\n",
    "\n",
    "seed(42)\n",
    "\n",
    "df = pd.DataFrame({'Weather':['cold', 'hot','cold', 'hot','cold', 'hot','cold'],\n",
    "                    'Food':['soup', 'soup', 'icecream', 'chocolate', 'icecream', 'icecream', 'soup'],\n",
    "                    'Price': 10 * rand(7),\n",
    "                    'Number': randint(1, 9, size = (7,))\n",
    "                   })\n",
    "\n",
    "#print df\n",
    "weather_group = df.groupby('Weather')\n",
    "i = 0\n",
    "for name, group in weather_group:\n",
    "    i += 1\n",
    "    print 'Group', i, name\n",
    "    print group\n",
    "    \n",
    "print 'Weather group first\\n', weather_group.first()\n",
    "print 'Weather group last\\n', weather_group.last()\n",
    "print 'Weather group mean\\n', weather_group.mean()\n",
    "\n",
    "wf_group = df.groupby(['Weather', 'Food'])\n",
    "print 'WF Groups', wf_group.groups\n",
    "print 'WF Aggregated\\n', wf_group.agg([np.mean, np.median])\n"
   ]
  },
  {
   "cell_type": "code",
   "execution_count": 38,
   "metadata": {},
   "outputs": [
    {
     "name": "stdout",
     "output_type": "stream",
     "text": [
      "df :3\n",
      "       Food  Number     Price Weather\n",
      "0      soup       8  3.745401    cold\n",
      "1      soup       5  9.507143     hot\n",
      "2  icecream       4  7.319939    cold\n"
     ]
    }
   ],
   "source": [
    "print 'df :3\\n', df[:3]"
   ]
  },
  {
   "cell_type": "code",
   "execution_count": 39,
   "metadata": {},
   "outputs": [
    {
     "name": "stdout",
     "output_type": "stream",
     "text": [
      "Concat Back together\n",
      "        Food  Number     Price Weather\n",
      "0       soup       8  3.745401    cold\n",
      "1       soup       5  9.507143     hot\n",
      "2   icecream       4  7.319939    cold\n",
      "3  chocolate       8  5.986585     hot\n",
      "4   icecream       8  1.560186    cold\n",
      "5   icecream       3  1.559945     hot\n",
      "6       soup       6  0.580836    cold\n"
     ]
    }
   ],
   "source": [
    "print 'Concat Back together\\n', pd.concat([df[:3], df[3:]])"
   ]
  },
  {
   "cell_type": "code",
   "execution_count": 40,
   "metadata": {},
   "outputs": [
    {
     "name": "stdout",
     "output_type": "stream",
     "text": [
      "Append rows \n",
      "       Food  Number     Price Weather\n",
      "0      soup       8  3.745401    cold\n",
      "1      soup       5  9.507143     hot\n",
      "2  icecream       4  7.319939    cold\n",
      "5  icecream       3  1.559945     hot\n",
      "6      soup       6  0.580836    cold\n"
     ]
    }
   ],
   "source": [
    "print 'Append rows \\n', df[:3].append(df[5:])"
   ]
  },
  {
   "cell_type": "code",
   "execution_count": 44,
   "metadata": {},
   "outputs": [
    {
     "name": "stdout",
     "output_type": "stream",
     "text": [
      "New df\n",
      "       Country  Net primary school enrolment ratio male (%)\n",
      "0  Afghanistan                                          NaN\n",
      "1      Albania                                         94.0\n"
     ]
    }
   ],
   "source": [
    "from pandas.io.parsers import read_csv\n",
    "import numpy as np\n",
    "\n",
    "df = read_csv(\"WHO_first9cols.csv\")\n",
    "df = df[['Country', df.columns[-2]]][:2]\n",
    "print 'New df\\n', df"
   ]
  },
  {
   "cell_type": "code",
   "execution_count": 45,
   "metadata": {},
   "outputs": [
    {
     "name": "stdout",
     "output_type": "stream",
     "text": [
      "Null values\n",
      "   Country  Net primary school enrolment ratio male (%)\n",
      "0    False                                         True\n",
      "1    False                                        False\n"
     ]
    }
   ],
   "source": [
    "print 'Null values\\n', pd.isnull(df)"
   ]
  },
  {
   "cell_type": "code",
   "execution_count": 46,
   "metadata": {},
   "outputs": [
    {
     "name": "stdout",
     "output_type": "stream",
     "text": [
      "Not null values\n",
      "   Country  Net primary school enrolment ratio male (%)\n",
      "0     True                                        False\n",
      "1     True                                         True\n"
     ]
    }
   ],
   "source": [
    "print 'Not null values\\n', df.notnull()"
   ]
  },
  {
   "cell_type": "code",
   "execution_count": 47,
   "metadata": {},
   "outputs": [
    {
     "name": "stdout",
     "output_type": "stream",
     "text": [
      "Last column doubled\n",
      "0      NaN\n",
      "1    188.0\n",
      "Name: Net primary school enrolment ratio male (%), dtype: float64\n"
     ]
    }
   ],
   "source": [
    "print 'Last column doubled\\n', 2 * df[df.columns[-1]]"
   ]
  },
  {
   "cell_type": "code",
   "execution_count": 50,
   "metadata": {},
   "outputs": [
    {
     "name": "stdout",
     "output_type": "stream",
     "text": [
      "last columns plus NaN\n",
      "0   NaN\n",
      "1   NaN\n",
      "Name: Net primary school enrolment ratio male (%), dtype: float64\n"
     ]
    }
   ],
   "source": [
    "print 'last columns plus NaN\\n',df[df.columns[-1]] + np.nan"
   ]
  },
  {
   "cell_type": "code",
   "execution_count": 51,
   "metadata": {},
   "outputs": [
    {
     "name": "stdout",
     "output_type": "stream",
     "text": [
      "zero filled\n",
      "       Country  Net primary school enrolment ratio male (%)\n",
      "0  Afghanistan                                          0.0\n",
      "1      Albania                                         94.0\n"
     ]
    }
   ],
   "source": [
    "print 'zero filled\\n', df.fillna(0)"
   ]
  },
  {
   "cell_type": "code",
   "execution_count": null,
   "metadata": {
    "collapsed": true
   },
   "outputs": [],
   "source": []
  }
 ],
 "metadata": {
  "kernelspec": {
   "display_name": "Python 2",
   "language": "python",
   "name": "python2"
  },
  "language_info": {
   "codemirror_mode": {
    "name": "ipython",
    "version": 2
   },
   "file_extension": ".py",
   "mimetype": "text/x-python",
   "name": "python",
   "nbconvert_exporter": "python",
   "pygments_lexer": "ipython2",
   "version": "2.7.13"
  }
 },
 "nbformat": 4,
 "nbformat_minor": 2
}
